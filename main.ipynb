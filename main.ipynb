{
 "cells": [
  {
   "cell_type": "code",
   "execution_count": 30,
   "metadata": {},
   "outputs": [],
   "source": [
    "import pandas as pd\n",
    "import numpy as np"
   ]
  },
  {
   "cell_type": "code",
   "execution_count": 3,
   "metadata": {},
   "outputs": [
    {
     "data": {
      "text/html": [
       "<div>\n",
       "<style scoped>\n",
       "    .dataframe tbody tr th:only-of-type {\n",
       "        vertical-align: middle;\n",
       "    }\n",
       "\n",
       "    .dataframe tbody tr th {\n",
       "        vertical-align: top;\n",
       "    }\n",
       "\n",
       "    .dataframe thead th {\n",
       "        text-align: right;\n",
       "    }\n",
       "</style>\n",
       "<table border=\"1\" class=\"dataframe\">\n",
       "  <thead>\n",
       "    <tr style=\"text-align: right;\">\n",
       "      <th></th>\n",
       "      <th>user_id</th>\n",
       "      <th>label</th>\n",
       "    </tr>\n",
       "  </thead>\n",
       "  <tbody>\n",
       "    <tr>\n",
       "      <th>491</th>\n",
       "      <td>41611</td>\n",
       "      <td>0.0</td>\n",
       "    </tr>\n",
       "    <tr>\n",
       "      <th>492</th>\n",
       "      <td>2526</td>\n",
       "      <td>0.0</td>\n",
       "    </tr>\n",
       "    <tr>\n",
       "      <th>493</th>\n",
       "      <td>30390</td>\n",
       "      <td>0.0</td>\n",
       "    </tr>\n",
       "  </tbody>\n",
       "</table>\n",
       "</div>"
      ],
      "text/plain": [
       "     user_id  label\n",
       "491    41611    0.0\n",
       "492     2526    0.0\n",
       "493    30390    0.0"
      ]
     },
     "execution_count": 3,
     "metadata": {},
     "output_type": "execute_result"
    }
   ],
   "source": [
    "df_y = pd.read_csv('y_train.csv')\n",
    "df_y.tail(3)"
   ]
  },
  {
   "cell_type": "code",
   "execution_count": 35,
   "metadata": {},
   "outputs": [
    {
     "name": "stdout",
     "output_type": "stream",
     "text": [
      "<class 'pandas.core.frame.DataFrame'>\n",
      "RangeIndex: 494 entries, 0 to 493\n",
      "Data columns (total 2 columns):\n",
      " #   Column   Non-Null Count  Dtype  \n",
      "---  ------   --------------  -----  \n",
      " 0   user_id  494 non-null    int64  \n",
      " 1   label    494 non-null    float64\n",
      "dtypes: float64(1), int64(1)\n",
      "memory usage: 7.8 KB\n"
     ]
    }
   ],
   "source": [
    "df_y.info()"
   ]
  },
  {
   "cell_type": "code",
   "execution_count": 21,
   "metadata": {},
   "outputs": [
    {
     "data": {
      "text/html": [
       "<div>\n",
       "<style scoped>\n",
       "    .dataframe tbody tr th:only-of-type {\n",
       "        vertical-align: middle;\n",
       "    }\n",
       "\n",
       "    .dataframe tbody tr th {\n",
       "        vertical-align: top;\n",
       "    }\n",
       "\n",
       "    .dataframe thead th {\n",
       "        text-align: right;\n",
       "    }\n",
       "</style>\n",
       "<table border=\"1\" class=\"dataframe\">\n",
       "  <thead>\n",
       "    <tr style=\"text-align: right;\">\n",
       "      <th></th>\n",
       "      <th>user_id</th>\n",
       "      <th>account_start_date</th>\n",
       "      <th>birth_year</th>\n",
       "      <th>gender</th>\n",
       "      <th>marital_status</th>\n",
       "      <th>family_income_segment_code</th>\n",
       "      <th>individual_income_segment_code</th>\n",
       "    </tr>\n",
       "  </thead>\n",
       "  <tbody>\n",
       "    <tr>\n",
       "      <th>52759</th>\n",
       "      <td>14627</td>\n",
       "      <td>1955-01-20</td>\n",
       "      <td>1930.0</td>\n",
       "      <td>M</td>\n",
       "      <td>3</td>\n",
       "      <td>06</td>\n",
       "      <td>02</td>\n",
       "    </tr>\n",
       "    <tr>\n",
       "      <th>52760</th>\n",
       "      <td>34018</td>\n",
       "      <td>1968-05-24</td>\n",
       "      <td>1929.0</td>\n",
       "      <td>M</td>\n",
       "      <td>1</td>\n",
       "      <td>06</td>\n",
       "      <td>04</td>\n",
       "    </tr>\n",
       "    <tr>\n",
       "      <th>52761</th>\n",
       "      <td>36321</td>\n",
       "      <td>1980-09-15</td>\n",
       "      <td>1962.0</td>\n",
       "      <td>M</td>\n",
       "      <td>1</td>\n",
       "      <td></td>\n",
       "      <td>07</td>\n",
       "    </tr>\n",
       "  </tbody>\n",
       "</table>\n",
       "</div>"
      ],
      "text/plain": [
       "       user_id account_start_date  birth_year gender marital_status  \\\n",
       "52759    14627         1955-01-20      1930.0      M              3   \n",
       "52760    34018         1968-05-24      1929.0      M              1   \n",
       "52761    36321         1980-09-15      1962.0      M              1   \n",
       "\n",
       "      family_income_segment_code individual_income_segment_code  \n",
       "52759                         06                             02  \n",
       "52760                         06                             04  \n",
       "52761                                                        07  "
      ]
     },
     "execution_count": 21,
     "metadata": {},
     "output_type": "execute_result"
    }
   ],
   "source": [
    "df_demo = pd.read_csv('demo.csv')\n",
    "df_demo.tail(3)"
   ]
  },
  {
   "cell_type": "code",
   "execution_count": 36,
   "metadata": {},
   "outputs": [],
   "source": [
    "df_demo.replace('', np.nan, inplace=True)"
   ]
  },
  {
   "cell_type": "code",
   "execution_count": 32,
   "metadata": {},
   "outputs": [
    {
     "name": "stdout",
     "output_type": "stream",
     "text": [
      "<class 'pandas.core.frame.DataFrame'>\n",
      "RangeIndex: 52762 entries, 0 to 52761\n",
      "Data columns (total 7 columns):\n",
      " #   Column                          Non-Null Count  Dtype  \n",
      "---  ------                          --------------  -----  \n",
      " 0   user_id                         52762 non-null  int64  \n",
      " 1   account_start_date              52762 non-null  object \n",
      " 2   birth_year                      52762 non-null  float64\n",
      " 3   gender                          52762 non-null  object \n",
      " 4   marital_status                  40467 non-null  object \n",
      " 5   family_income_segment_code      45940 non-null  object \n",
      " 6   individual_income_segment_code  49563 non-null  object \n",
      "dtypes: float64(1), int64(1), object(5)\n",
      "memory usage: 2.8+ MB\n"
     ]
    }
   ],
   "source": [
    "df_demo.info()"
   ]
  },
  {
   "cell_type": "code",
   "execution_count": 7,
   "metadata": {},
   "outputs": [],
   "source": [
    "df_demo['gender'] = df_demo['gender'].astype(str)\n",
    "df_demo['marital_status'] = df_demo['marital_status'].astype(str)\n",
    "df_demo['family_income_segment_code'] = df_demo['family_income_segment_code'].astype(str)"
   ]
  },
  {
   "cell_type": "code",
   "execution_count": 8,
   "metadata": {},
   "outputs": [
    {
     "data": {
      "text/html": [
       "<div>\n",
       "<style scoped>\n",
       "    .dataframe tbody tr th:only-of-type {\n",
       "        vertical-align: middle;\n",
       "    }\n",
       "\n",
       "    .dataframe tbody tr th {\n",
       "        vertical-align: top;\n",
       "    }\n",
       "\n",
       "    .dataframe thead th {\n",
       "        text-align: right;\n",
       "    }\n",
       "</style>\n",
       "<table border=\"1\" class=\"dataframe\">\n",
       "  <thead>\n",
       "    <tr style=\"text-align: right;\">\n",
       "      <th></th>\n",
       "      <th>user_id</th>\n",
       "      <th>bill_cyc</th>\n",
       "      <th>cr_lmt_amt</th>\n",
       "      <th>card_no</th>\n",
       "    </tr>\n",
       "  </thead>\n",
       "  <tbody>\n",
       "    <tr>\n",
       "      <th>60293</th>\n",
       "      <td>52759</td>\n",
       "      <td>16.0</td>\n",
       "      <td>1250000</td>\n",
       "      <td>60293</td>\n",
       "    </tr>\n",
       "    <tr>\n",
       "      <th>60294</th>\n",
       "      <td>52760</td>\n",
       "      <td>11.0</td>\n",
       "      <td>1078000</td>\n",
       "      <td>60294</td>\n",
       "    </tr>\n",
       "    <tr>\n",
       "      <th>60295</th>\n",
       "      <td>52761</td>\n",
       "      <td>13.0</td>\n",
       "      <td>293000</td>\n",
       "      <td>60295</td>\n",
       "    </tr>\n",
       "  </tbody>\n",
       "</table>\n",
       "</div>"
      ],
      "text/plain": [
       "       user_id  bill_cyc  cr_lmt_amt  card_no\n",
       "60293    52759      16.0     1250000    60293\n",
       "60294    52760      11.0     1078000    60294\n",
       "60295    52761      13.0      293000    60295"
      ]
     },
     "execution_count": 8,
     "metadata": {},
     "output_type": "execute_result"
    }
   ],
   "source": [
    "df_cardinfo = pd.read_csv('card_info.csv')\n",
    "df_cardinfo.tail(3)"
   ]
  },
  {
   "cell_type": "code",
   "execution_count": 9,
   "metadata": {},
   "outputs": [
    {
     "name": "stdout",
     "output_type": "stream",
     "text": [
      "<class 'pandas.core.frame.DataFrame'>\n",
      "RangeIndex: 60296 entries, 0 to 60295\n",
      "Data columns (total 4 columns):\n",
      " #   Column      Non-Null Count  Dtype  \n",
      "---  ------      --------------  -----  \n",
      " 0   user_id     60296 non-null  int64  \n",
      " 1   bill_cyc    60296 non-null  float64\n",
      " 2   cr_lmt_amt  60296 non-null  int64  \n",
      " 3   card_no     60296 non-null  int64  \n",
      "dtypes: float64(1), int64(3)\n",
      "memory usage: 1.8 MB\n"
     ]
    }
   ],
   "source": [
    "df_cardinfo.info()"
   ]
  },
  {
   "cell_type": "code",
   "execution_count": 10,
   "metadata": {},
   "outputs": [
    {
     "data": {
      "text/html": [
       "<div>\n",
       "<style scoped>\n",
       "    .dataframe tbody tr th:only-of-type {\n",
       "        vertical-align: middle;\n",
       "    }\n",
       "\n",
       "    .dataframe tbody tr th {\n",
       "        vertical-align: top;\n",
       "    }\n",
       "\n",
       "    .dataframe thead th {\n",
       "        text-align: right;\n",
       "    }\n",
       "</style>\n",
       "<table border=\"1\" class=\"dataframe\">\n",
       "  <thead>\n",
       "    <tr style=\"text-align: right;\">\n",
       "      <th></th>\n",
       "      <th>mcc</th>\n",
       "      <th>txn_dt</th>\n",
       "      <th>user_id</th>\n",
       "      <th>txn_amt</th>\n",
       "      <th>card_no</th>\n",
       "    </tr>\n",
       "  </thead>\n",
       "  <tbody>\n",
       "    <tr>\n",
       "      <th>3223072</th>\n",
       "      <td>mcc_cat3</td>\n",
       "      <td>2017-03-22</td>\n",
       "      <td>35306</td>\n",
       "      <td>31265.0</td>\n",
       "      <td>41396.0</td>\n",
       "    </tr>\n",
       "    <tr>\n",
       "      <th>3223073</th>\n",
       "      <td>mcc_cat11</td>\n",
       "      <td>2017-04-01</td>\n",
       "      <td>37777</td>\n",
       "      <td>11044.0</td>\n",
       "      <td>44154.0</td>\n",
       "    </tr>\n",
       "    <tr>\n",
       "      <th>3223074</th>\n",
       "      <td>mcc_cat2</td>\n",
       "      <td>2017-03-03</td>\n",
       "      <td>30668</td>\n",
       "      <td>114966.0</td>\n",
       "      <td>36159.0</td>\n",
       "    </tr>\n",
       "  </tbody>\n",
       "</table>\n",
       "</div>"
      ],
      "text/plain": [
       "               mcc      txn_dt  user_id   txn_amt  card_no\n",
       "3223072   mcc_cat3  2017-03-22    35306   31265.0  41396.0\n",
       "3223073  mcc_cat11  2017-04-01    37777   11044.0  44154.0\n",
       "3223074   mcc_cat2  2017-03-03    30668  114966.0  36159.0"
      ]
     },
     "execution_count": 10,
     "metadata": {},
     "output_type": "execute_result"
    }
   ],
   "source": [
    "df_cctxn = pd.read_csv('cc_txn.csv')\n",
    "df_cctxn.tail(3)"
   ]
  },
  {
   "cell_type": "code",
   "execution_count": 11,
   "metadata": {},
   "outputs": [
    {
     "data": {
      "text/html": [
       "<div>\n",
       "<style scoped>\n",
       "    .dataframe tbody tr th:only-of-type {\n",
       "        vertical-align: middle;\n",
       "    }\n",
       "\n",
       "    .dataframe tbody tr th {\n",
       "        vertical-align: top;\n",
       "    }\n",
       "\n",
       "    .dataframe thead th {\n",
       "        text-align: right;\n",
       "    }\n",
       "</style>\n",
       "<table border=\"1\" class=\"dataframe\">\n",
       "  <thead>\n",
       "    <tr style=\"text-align: right;\">\n",
       "      <th></th>\n",
       "      <th>user_id</th>\n",
       "      <th>mm</th>\n",
       "      <th>max_sa_bal</th>\n",
       "    </tr>\n",
       "  </thead>\n",
       "  <tbody>\n",
       "    <tr>\n",
       "      <th>633141</th>\n",
       "      <td>52761</td>\n",
       "      <td>7</td>\n",
       "      <td>165959.0</td>\n",
       "    </tr>\n",
       "    <tr>\n",
       "      <th>633142</th>\n",
       "      <td>52761</td>\n",
       "      <td>8</td>\n",
       "      <td>6118.0</td>\n",
       "    </tr>\n",
       "    <tr>\n",
       "      <th>633143</th>\n",
       "      <td>52761</td>\n",
       "      <td>9</td>\n",
       "      <td>0.0</td>\n",
       "    </tr>\n",
       "  </tbody>\n",
       "</table>\n",
       "</div>"
      ],
      "text/plain": [
       "        user_id  mm  max_sa_bal\n",
       "633141    52761   7    165959.0\n",
       "633142    52761   8      6118.0\n",
       "633143    52761   9         0.0"
      ]
     },
     "execution_count": 11,
     "metadata": {},
     "output_type": "execute_result"
    }
   ],
   "source": [
    "df_sabal = pd.read_csv('sa_bal.csv')\n",
    "df_sabal.tail(3)"
   ]
  },
  {
   "cell_type": "code",
   "execution_count": 12,
   "metadata": {},
   "outputs": [
    {
     "data": {
      "text/html": [
       "<div>\n",
       "<style scoped>\n",
       "    .dataframe tbody tr th:only-of-type {\n",
       "        vertical-align: middle;\n",
       "    }\n",
       "\n",
       "    .dataframe tbody tr th {\n",
       "        vertical-align: top;\n",
       "    }\n",
       "\n",
       "    .dataframe thead th {\n",
       "        text-align: right;\n",
       "    }\n",
       "</style>\n",
       "<table border=\"1\" class=\"dataframe\">\n",
       "  <thead>\n",
       "    <tr style=\"text-align: right;\">\n",
       "      <th></th>\n",
       "      <th>user_id</th>\n",
       "      <th>mm</th>\n",
       "      <th>amt_in</th>\n",
       "      <th>amt_out</th>\n",
       "    </tr>\n",
       "  </thead>\n",
       "  <tbody>\n",
       "    <tr>\n",
       "      <th>490596</th>\n",
       "      <td>52761</td>\n",
       "      <td>6</td>\n",
       "      <td>1306.0</td>\n",
       "      <td>37114.0</td>\n",
       "    </tr>\n",
       "    <tr>\n",
       "      <th>490597</th>\n",
       "      <td>52761</td>\n",
       "      <td>8</td>\n",
       "      <td>0.0</td>\n",
       "      <td>108236.0</td>\n",
       "    </tr>\n",
       "    <tr>\n",
       "      <th>490598</th>\n",
       "      <td>52761</td>\n",
       "      <td>9</td>\n",
       "      <td>0.0</td>\n",
       "      <td>88520.0</td>\n",
       "    </tr>\n",
       "  </tbody>\n",
       "</table>\n",
       "</div>"
      ],
      "text/plain": [
       "        user_id  mm  amt_in   amt_out\n",
       "490596    52761   6  1306.0   37114.0\n",
       "490597    52761   8     0.0  108236.0\n",
       "490598    52761   9     0.0   88520.0"
      ]
     },
     "execution_count": 12,
     "metadata": {},
     "output_type": "execute_result"
    }
   ],
   "source": [
    "df_dtxn = pd.read_csv('dtxn.csv')\n",
    "df_dtxn.tail(3)"
   ]
  }
 ],
 "metadata": {
  "kernelspec": {
   "display_name": "Python 3",
   "language": "python",
   "name": "python3"
  },
  "language_info": {
   "codemirror_mode": {
    "name": "ipython",
    "version": 3
   },
   "file_extension": ".py",
   "mimetype": "text/x-python",
   "name": "python",
   "nbconvert_exporter": "python",
   "pygments_lexer": "ipython3",
   "version": "3.9.13"
  }
 },
 "nbformat": 4,
 "nbformat_minor": 2
}
